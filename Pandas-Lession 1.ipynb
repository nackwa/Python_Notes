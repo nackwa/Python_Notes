{
 "cells": [
  {
   "cell_type": "code",
   "execution_count": 89,
   "id": "b073f4b0",
   "metadata": {},
   "outputs": [
    {
     "name": "stdout",
     "output_type": "stream",
     "text": [
      "Requirement already satisfied: xlrd in c:\\users\\damian\\anaconda3\\lib\\site-packages (2.0.1)\n",
      "Requirement already satisfied: openpyxl in c:\\users\\damian\\anaconda3\\lib\\site-packages (3.0.10)\n",
      "Requirement already satisfied: et_xmlfile in c:\\users\\damian\\anaconda3\\lib\\site-packages (from openpyxl) (1.1.0)\n"
     ]
    }
   ],
   "source": [
    "!pip install xlrd\n",
    "!pip install openpyxl"
   ]
  },
  {
   "cell_type": "code",
   "execution_count": 1,
   "id": "a17045c7",
   "metadata": {},
   "outputs": [],
   "source": [
    "a=5"
   ]
  },
  {
   "cell_type": "code",
   "execution_count": 80,
   "id": "10b02805",
   "metadata": {},
   "outputs": [
    {
     "name": "stdout",
     "output_type": "stream",
     "text": [
      "5\n"
     ]
    }
   ],
   "source": [
    "print (a)"
   ]
  },
  {
   "cell_type": "code",
   "execution_count": 85,
   "id": "68560ca2",
   "metadata": {},
   "outputs": [
    {
     "data": {
      "text/html": [
       "<div>\n",
       "<style scoped>\n",
       "    .dataframe tbody tr th:only-of-type {\n",
       "        vertical-align: middle;\n",
       "    }\n",
       "\n",
       "    .dataframe tbody tr th {\n",
       "        vertical-align: top;\n",
       "    }\n",
       "\n",
       "    .dataframe thead th {\n",
       "        text-align: right;\n",
       "    }\n",
       "</style>\n",
       "<table border=\"1\" class=\"dataframe\">\n",
       "  <thead>\n",
       "    <tr style=\"text-align: right;\">\n",
       "      <th></th>\n",
       "      <th>Expenses</th>\n",
       "      <th>Week 1</th>\n",
       "      <th>Week 2</th>\n",
       "      <th>Week 3</th>\n",
       "      <th>Week 4</th>\n",
       "      <th>Unnamed: 5</th>\n",
       "      <th>Unnamed: 6</th>\n",
       "      <th>Unnamed: 7</th>\n",
       "    </tr>\n",
       "  </thead>\n",
       "  <tbody>\n",
       "    <tr>\n",
       "      <th>0</th>\n",
       "      <td>Mortgage or rent</td>\n",
       "      <td>$1,000.00</td>\n",
       "      <td>$1,000.00</td>\n",
       "      <td>$0.00</td>\n",
       "      <td>$1,542.00</td>\n",
       "      <td>NaN</td>\n",
       "      <td>NaN</td>\n",
       "      <td>$0.00</td>\n",
       "    </tr>\n",
       "    <tr>\n",
       "      <th>1</th>\n",
       "      <td>Phone</td>\n",
       "      <td>$54.00</td>\n",
       "      <td>$100.00</td>\n",
       "      <td>($46.00)</td>\n",
       "      <td>CDs</td>\n",
       "      <td>NaN</td>\n",
       "      <td>NaN</td>\n",
       "      <td>$0.00</td>\n",
       "    </tr>\n",
       "    <tr>\n",
       "      <th>2</th>\n",
       "      <td>Electricity</td>\n",
       "      <td>$44.00</td>\n",
       "      <td>$56.00</td>\n",
       "      <td>($12.00)</td>\n",
       "      <td>Movies</td>\n",
       "      <td>NaN</td>\n",
       "      <td>NaN</td>\n",
       "      <td>$0.00</td>\n",
       "    </tr>\n",
       "    <tr>\n",
       "      <th>3</th>\n",
       "      <td>Gas</td>\n",
       "      <td>$22.00</td>\n",
       "      <td>$28.00</td>\n",
       "      <td>($6.00)</td>\n",
       "      <td>Concerts</td>\n",
       "      <td>NaN</td>\n",
       "      <td>NaN</td>\n",
       "      <td>$0.00</td>\n",
       "    </tr>\n",
       "    <tr>\n",
       "      <th>4</th>\n",
       "      <td>Water and sewer</td>\n",
       "      <td>$8.00</td>\n",
       "      <td>$8.00</td>\n",
       "      <td>$0.00</td>\n",
       "      <td>Sporting events</td>\n",
       "      <td>NaN</td>\n",
       "      <td>NaN</td>\n",
       "      <td>$0.00</td>\n",
       "    </tr>\n",
       "    <tr>\n",
       "      <th>...</th>\n",
       "      <td>...</td>\n",
       "      <td>...</td>\n",
       "      <td>...</td>\n",
       "      <td>...</td>\n",
       "      <td>...</td>\n",
       "      <td>...</td>\n",
       "      <td>...</td>\n",
       "      <td>...</td>\n",
       "    </tr>\n",
       "    <tr>\n",
       "      <th>57</th>\n",
       "      <td>NaN</td>\n",
       "      <td>NaN</td>\n",
       "      <td>NaN</td>\n",
       "      <td>NaN</td>\n",
       "      <td>Total projected cost</td>\n",
       "      <td>NaN</td>\n",
       "      <td>NaN</td>\n",
       "      <td>$1,195.00</td>\n",
       "    </tr>\n",
       "    <tr>\n",
       "      <th>58</th>\n",
       "      <td>NaN</td>\n",
       "      <td>NaN</td>\n",
       "      <td>NaN</td>\n",
       "      <td>NaN</td>\n",
       "      <td>NaN</td>\n",
       "      <td>NaN</td>\n",
       "      <td>NaN</td>\n",
       "      <td>NaN</td>\n",
       "    </tr>\n",
       "    <tr>\n",
       "      <th>59</th>\n",
       "      <td>NaN</td>\n",
       "      <td>NaN</td>\n",
       "      <td>NaN</td>\n",
       "      <td>NaN</td>\n",
       "      <td>Total actual cost</td>\n",
       "      <td>NaN</td>\n",
       "      <td>NaN</td>\n",
       "      <td>$1,236.00</td>\n",
       "    </tr>\n",
       "    <tr>\n",
       "      <th>60</th>\n",
       "      <td>NaN</td>\n",
       "      <td>NaN</td>\n",
       "      <td>NaN</td>\n",
       "      <td>NaN</td>\n",
       "      <td>NaN</td>\n",
       "      <td>NaN</td>\n",
       "      <td>NaN</td>\n",
       "      <td>NaN</td>\n",
       "    </tr>\n",
       "    <tr>\n",
       "      <th>61</th>\n",
       "      <td>NaN</td>\n",
       "      <td>NaN</td>\n",
       "      <td>NaN</td>\n",
       "      <td>NaN</td>\n",
       "      <td>Total difference</td>\n",
       "      <td>NaN</td>\n",
       "      <td>NaN</td>\n",
       "      <td>($41.00)</td>\n",
       "    </tr>\n",
       "  </tbody>\n",
       "</table>\n",
       "<p>62 rows × 8 columns</p>\n",
       "</div>"
      ],
      "text/plain": [
       "            Expenses      Week 1      Week 2    Week 3                Week 4  \\\n",
       "0   Mortgage or rent  $1,000.00   $1,000.00     $0.00             $1,542.00    \n",
       "1              Phone     $54.00     $100.00   ($46.00)                   CDs   \n",
       "2        Electricity     $44.00      $56.00   ($12.00)                Movies   \n",
       "3                Gas     $22.00      $28.00    ($6.00)              Concerts   \n",
       "4    Water and sewer      $8.00       $8.00     $0.00        Sporting events   \n",
       "..               ...         ...         ...       ...                   ...   \n",
       "57               NaN         NaN         NaN       NaN  Total projected cost   \n",
       "58               NaN         NaN         NaN       NaN                   NaN   \n",
       "59               NaN         NaN         NaN       NaN     Total actual cost   \n",
       "60               NaN         NaN         NaN       NaN                   NaN   \n",
       "61               NaN         NaN         NaN       NaN      Total difference   \n",
       "\n",
       "   Unnamed: 5 Unnamed: 6  Unnamed: 7  \n",
       "0         NaN        NaN      $0.00   \n",
       "1         NaN        NaN      $0.00   \n",
       "2         NaN        NaN      $0.00   \n",
       "3         NaN        NaN      $0.00   \n",
       "4         NaN        NaN      $0.00   \n",
       "..        ...        ...         ...  \n",
       "57        NaN        NaN  $1,195.00   \n",
       "58        NaN        NaN         NaN  \n",
       "59        NaN        NaN  $1,236.00   \n",
       "60        NaN        NaN         NaN  \n",
       "61        NaN        NaN    ($41.00)  \n",
       "\n",
       "[62 rows x 8 columns]"
      ]
     },
     "execution_count": 85,
     "metadata": {},
     "output_type": "execute_result"
    }
   ],
   "source": [
    "import pandas as pd\n",
    "\n",
    "cv_path = 'Desktop/MPB.csv'\n",
    "rd = pd.read_csv(cv_path)\n",
    "\n",
    "rd"
   ]
  },
  {
   "cell_type": "code",
   "execution_count": null,
   "id": "175c5c27",
   "metadata": {},
   "outputs": [],
   "source": []
  },
  {
   "cell_type": "code",
   "execution_count": 86,
   "id": "dedad103",
   "metadata": {},
   "outputs": [
    {
     "data": {
      "text/html": [
       "<div>\n",
       "<style scoped>\n",
       "    .dataframe tbody tr th:only-of-type {\n",
       "        vertical-align: middle;\n",
       "    }\n",
       "\n",
       "    .dataframe tbody tr th {\n",
       "        vertical-align: top;\n",
       "    }\n",
       "\n",
       "    .dataframe thead th {\n",
       "        text-align: right;\n",
       "    }\n",
       "</style>\n",
       "<table border=\"1\" class=\"dataframe\">\n",
       "  <thead>\n",
       "    <tr style=\"text-align: right;\">\n",
       "      <th></th>\n",
       "      <th>Expenses</th>\n",
       "      <th>Week 1</th>\n",
       "      <th>Week 2</th>\n",
       "      <th>Week 3</th>\n",
       "      <th>Week 4</th>\n",
       "      <th>Unnamed: 5</th>\n",
       "      <th>Unnamed: 6</th>\n",
       "      <th>Unnamed: 7</th>\n",
       "    </tr>\n",
       "  </thead>\n",
       "  <tbody>\n",
       "    <tr>\n",
       "      <th>0</th>\n",
       "      <td>Mortgage or rent</td>\n",
       "      <td>$1,000.00</td>\n",
       "      <td>$1,000.00</td>\n",
       "      <td>$0.00</td>\n",
       "      <td>$1,542.00</td>\n",
       "      <td>NaN</td>\n",
       "      <td>NaN</td>\n",
       "      <td>$0.00</td>\n",
       "    </tr>\n",
       "    <tr>\n",
       "      <th>1</th>\n",
       "      <td>Phone</td>\n",
       "      <td>$54.00</td>\n",
       "      <td>$100.00</td>\n",
       "      <td>($46.00)</td>\n",
       "      <td>CDs</td>\n",
       "      <td>NaN</td>\n",
       "      <td>NaN</td>\n",
       "      <td>$0.00</td>\n",
       "    </tr>\n",
       "    <tr>\n",
       "      <th>2</th>\n",
       "      <td>Electricity</td>\n",
       "      <td>$44.00</td>\n",
       "      <td>$56.00</td>\n",
       "      <td>($12.00)</td>\n",
       "      <td>Movies</td>\n",
       "      <td>NaN</td>\n",
       "      <td>NaN</td>\n",
       "      <td>$0.00</td>\n",
       "    </tr>\n",
       "    <tr>\n",
       "      <th>3</th>\n",
       "      <td>Gas</td>\n",
       "      <td>$22.00</td>\n",
       "      <td>$28.00</td>\n",
       "      <td>($6.00)</td>\n",
       "      <td>Concerts</td>\n",
       "      <td>NaN</td>\n",
       "      <td>NaN</td>\n",
       "      <td>$0.00</td>\n",
       "    </tr>\n",
       "    <tr>\n",
       "      <th>4</th>\n",
       "      <td>Water and sewer</td>\n",
       "      <td>$8.00</td>\n",
       "      <td>$8.00</td>\n",
       "      <td>$0.00</td>\n",
       "      <td>Sporting events</td>\n",
       "      <td>NaN</td>\n",
       "      <td>NaN</td>\n",
       "      <td>$0.00</td>\n",
       "    </tr>\n",
       "  </tbody>\n",
       "</table>\n",
       "</div>"
      ],
      "text/plain": [
       "           Expenses      Week 1      Week 2    Week 3           Week 4  \\\n",
       "0  Mortgage or rent  $1,000.00   $1,000.00     $0.00        $1,542.00    \n",
       "1             Phone     $54.00     $100.00   ($46.00)              CDs   \n",
       "2       Electricity     $44.00      $56.00   ($12.00)           Movies   \n",
       "3               Gas     $22.00      $28.00    ($6.00)         Concerts   \n",
       "4   Water and sewer      $8.00       $8.00     $0.00   Sporting events   \n",
       "\n",
       "  Unnamed: 5 Unnamed: 6 Unnamed: 7  \n",
       "0        NaN        NaN     $0.00   \n",
       "1        NaN        NaN     $0.00   \n",
       "2        NaN        NaN     $0.00   \n",
       "3        NaN        NaN     $0.00   \n",
       "4        NaN        NaN     $0.00   "
      ]
     },
     "execution_count": 86,
     "metadata": {},
     "output_type": "execute_result"
    }
   ],
   "source": [
    "import pandas as pd\n",
    "\n",
    "cv_path = 'Desktop/MPB.csv'\n",
    "rd = pd.read_csv(cv_path)\n",
    "\n",
    "rd.head()"
   ]
  },
  {
   "cell_type": "code",
   "execution_count": null,
   "id": "32f32e20",
   "metadata": {},
   "outputs": [],
   "source": []
  },
  {
   "cell_type": "code",
   "execution_count": 81,
   "id": "01f5ba5d",
   "metadata": {},
   "outputs": [],
   "source": [
    "import pandas as pd\n",
    "\n",
    "cv_path = 'Desktop/MPB.csv'\n",
    "rd = pd.read_csv(cv_path)\n",
    "\n",
    "rd.head()\n",
    "\n",
    "# Save the DataFrame to a CSV file named 'PD_Lesson1.csv'\n",
    "rd.to_csv('PD_Lesson1.csv', index=False)"
   ]
  },
  {
   "cell_type": "code",
   "execution_count": 84,
   "id": "b1e09044",
   "metadata": {},
   "outputs": [],
   "source": [
    "v = rd[['Week 2']]"
   ]
  },
  {
   "cell_type": "code",
   "execution_count": null,
   "id": "464e5ab1",
   "metadata": {},
   "outputs": [],
   "source": []
  },
  {
   "cell_type": "code",
   "execution_count": 51,
   "id": "c768551b",
   "metadata": {},
   "outputs": [
    {
     "name": "stdout",
     "output_type": "stream",
     "text": [
      "        Week 2    Week 3\n",
      "0   $1,000.00     $0.00 \n",
      "1     $100.00   ($46.00)\n",
      "2      $56.00   ($12.00)\n",
      "3      $28.00    ($6.00)\n",
      "4       $8.00     $0.00 \n",
      "..         ...       ...\n",
      "57         NaN       NaN\n",
      "58         NaN       NaN\n",
      "59         NaN       NaN\n",
      "60         NaN       NaN\n",
      "61         NaN       NaN\n",
      "\n",
      "[62 rows x 2 columns]\n"
     ]
    }
   ],
   "source": [
    "import pandas as pd\n",
    "\n",
    "cv_path = 'Desktop/MPB.csv'\n",
    "rd = pd.read_csv(cv_path)\n",
    "\n",
    "\n",
    "\n",
    "# Access the \"Week 2\" column\n",
    "v = rd[['Week 2','Week 3']] #Display Specific callum\n",
    "\n",
    "\n",
    "print (v)"
   ]
  },
  {
   "cell_type": "code",
   "execution_count": 53,
   "id": "43cf29e2",
   "metadata": {},
   "outputs": [
    {
     "data": {
      "text/plain": [
       "array(['$1,000.00 ', '$100.00 ', '$56.00 ', '$28.00 ', '$8.00 ',\n",
       "       '$34.00 ', '$10.00 ', '$0.00 ', nan, 'Actual \\ncost'], dtype=object)"
      ]
     },
     "execution_count": 53,
     "metadata": {},
     "output_type": "execute_result"
    }
   ],
   "source": [
    "#Displaying Unique Data\n",
    "rd['Week 2'].unique()"
   ]
  },
  {
   "cell_type": "code",
   "execution_count": null,
   "id": "3a0c0434",
   "metadata": {},
   "outputs": [],
   "source": []
  },
  {
   "cell_type": "code",
   "execution_count": 70,
   "id": "43cd033f",
   "metadata": {},
   "outputs": [
    {
     "name": "stdout",
     "output_type": "stream",
     "text": [
      "Empty DataFrame\n",
      "Columns: [Expenses, Week 1, Week 2, Week 3, Week 4, Unnamed: 5, Unnamed: 6, Unnamed: 7]\n",
      "Index: []\n"
     ]
    }
   ],
   "source": [
    "import pandas as pd\n",
    "\n",
    "# Assuming the CSV file is located at 'Desktop/MPB.csv'\n",
    "cv_path = 'Desktop/MPB.csv'\n",
    "\n",
    "# Read the CSV file into a DataFrame\n",
    "rd = pd.read_csv(cv_path)\n",
    "\n",
    "# Convert the \"Week 2\" column to numeric type (float or int)\n",
    "rd['Week 2'] = pd.to_numeric(rd['Week 2'], errors='coerce')\n",
    "\n",
    "# Filter out rows where \"Week 2\" column is greater than or equal to 100\n",
    "rd1 = rd[rd['Week 2'] >= 100]\n",
    "\n",
    "print (rd1)"
   ]
  },
  {
   "cell_type": "code",
   "execution_count": null,
   "id": "4792b789",
   "metadata": {},
   "outputs": [],
   "source": []
  }
 ],
 "metadata": {
  "kernelspec": {
   "display_name": "Python 3 (ipykernel)",
   "language": "python",
   "name": "python3"
  },
  "language_info": {
   "codemirror_mode": {
    "name": "ipython",
    "version": 3
   },
   "file_extension": ".py",
   "mimetype": "text/x-python",
   "name": "python",
   "nbconvert_exporter": "python",
   "pygments_lexer": "ipython3",
   "version": "3.10.9"
  }
 },
 "nbformat": 4,
 "nbformat_minor": 5
}
